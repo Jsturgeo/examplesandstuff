{
 "cells": [
  {
   "cell_type": "code",
   "execution_count": 1,
   "metadata": {},
   "outputs": [
    {
     "data": {
      "text/plain": [
       "['.ipynb_checkpoints',\n",
       " 'pyladies-example.ipynb',\n",
       " 'playbyplay20120510040.zip',\n",
       " 'bryant.txt']"
      ]
     },
     "execution_count": 1,
     "metadata": {},
     "output_type": "execute_result"
    }
   ],
   "source": [
    "import os\n",
    "# Only our notebook is in the directory\n",
    "os.listdir()"
   ]
  },
  {
   "cell_type": "code",
   "execution_count": 2,
   "metadata": {
    "collapsed": true
   },
   "outputs": [],
   "source": [
    "import boto3\n",
    "bucket_name = 'pyladies' # or your bucket name (this bucket doesn't exist anymore)\n",
    "file_name = 'playbyplay20120510040.zip'\n",
    "\n",
    "# Download file from S3 bucket to local\n",
    "s3 = boto3.resource('s3')\n",
    "s3.meta.client.download_file(bucket_name, file_name, file_name)"
   ]
  },
  {
   "cell_type": "code",
   "execution_count": 3,
   "metadata": {},
   "outputs": [
    {
     "data": {
      "text/plain": [
       "['.ipynb_checkpoints',\n",
       " 'pyladies-example.ipynb',\n",
       " 'playbyplay20120510040.zip',\n",
       " 'bryant.txt']"
      ]
     },
     "execution_count": 3,
     "metadata": {},
     "output_type": "execute_result"
    }
   ],
   "source": [
    "# Should see the downloaded zip file\n",
    "os.listdir()"
   ]
  },
  {
   "cell_type": "code",
   "execution_count": 4,
   "metadata": {
    "collapsed": true
   },
   "outputs": [],
   "source": [
    "import zipfile\n",
    "\n",
    "new_filename = 'bryant.txt'\n",
    "# Read from zipped text file\n",
    "lines = []\n",
    "with zipfile.ZipFile(file_name) as z:\n",
    "    with z.open(z.namelist()[0]) as f:\n",
    "        for line in f:\n",
    "            lines.append(str(line))\n",
    "\n",
    "# Extract lines containing 'Bryant'\n",
    "bryant_lines = [line.strip() for line in lines if 'Bryant' in line]\n",
    "\n",
    "# Create a new file txt file with this extracted data\n",
    "with open(new_filename, 'w') as outfile:\n",
    "    outfile.writelines('\\n'.join(bryant_lines))"
   ]
  },
  {
   "cell_type": "code",
   "execution_count": 5,
   "metadata": {},
   "outputs": [
    {
     "data": {
      "text/plain": [
       "['.ipynb_checkpoints',\n",
       " 'pyladies-example.ipynb',\n",
       " 'playbyplay20120510040.zip',\n",
       " 'bryant.txt']"
      ]
     },
     "execution_count": 5,
     "metadata": {},
     "output_type": "execute_result"
    }
   ],
   "source": [
    "# Should see the .txt file we've created\n",
    "os.listdir()"
   ]
  },
  {
   "cell_type": "code",
   "execution_count": 6,
   "metadata": {
    "collapsed": true
   },
   "outputs": [],
   "source": [
    "# Upload new file back to S3\n",
    "s3.meta.client.upload_file(new_filename, bucket_name, new_filename)"
   ]
  },
  {
   "cell_type": "code",
   "execution_count": null,
   "metadata": {
    "collapsed": true
   },
   "outputs": [],
   "source": []
  }
 ],
 "metadata": {
  "kernelspec": {
   "display_name": "Python 3",
   "language": "python",
   "name": "python3"
  },
  "language_info": {
   "codemirror_mode": {
    "name": "ipython",
    "version": 3
   },
   "file_extension": ".py",
   "mimetype": "text/x-python",
   "name": "python",
   "nbconvert_exporter": "python",
   "pygments_lexer": "ipython3",
   "version": "3.6.1"
  }
 },
 "nbformat": 4,
 "nbformat_minor": 2
}
